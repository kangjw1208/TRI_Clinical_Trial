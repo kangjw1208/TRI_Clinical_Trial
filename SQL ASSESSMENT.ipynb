{
 "cells": [
  {
   "cell_type": "code",
   "execution_count": 1,
   "metadata": {},
   "outputs": [],
   "source": [
    "import sqlite3 as sql\n",
    "import pandas as pd\n",
    "import numpy as np"
   ]
  },
  {
   "cell_type": "code",
   "execution_count": 34,
   "metadata": {},
   "outputs": [],
   "source": [
    "adverse_data = pd.read_csv(\"data/adae.csv\")"
   ]
  },
  {
   "cell_type": "code",
   "execution_count": 33,
   "metadata": {},
   "outputs": [],
   "source": [
    "cnn = sql.connect('jupyter_sql_tutorial.db')"
   ]
  },
  {
   "cell_type": "code",
   "execution_count": 36,
   "metadata": {},
   "outputs": [],
   "source": [
    "adverse_data.to_sql('adae', cnn)"
   ]
  },
  {
   "cell_type": "code",
   "execution_count": 37,
   "metadata": {},
   "outputs": [],
   "source": [
    "%load_ext sql\n",
    "%sql sqlite:///jupyter_sql_tutorial.db"
   ]
  },
  {
   "cell_type": "code",
   "execution_count": 138,
   "metadata": {
    "scrolled": false
   },
   "outputs": [
    {
     "name": "stdout",
     "output_type": "stream",
     "text": [
      " * sqlite:///jupyter_sql_tutorial.db\n",
      "Done.\n"
     ]
    },
    {
     "data": {
      "text/html": [
       "<table>\n",
       "    <tr>\n",
       "        <th>Maximum Severity</th>\n",
       "        <th>&lt;65</th>\n",
       "        <th>65-80</th>\n",
       "        <th>&gt;80</th>\n",
       "    </tr>\n",
       "    <tr>\n",
       "        <td>MILD</td>\n",
       "        <td>127</td>\n",
       "        <td>413</td>\n",
       "        <td>230</td>\n",
       "    </tr>\n",
       "    <tr>\n",
       "        <td>MODERATE</td>\n",
       "        <td>46</td>\n",
       "        <td>247</td>\n",
       "        <td>85</td>\n",
       "    </tr>\n",
       "    <tr>\n",
       "        <td>SEVERE</td>\n",
       "        <td>2</td>\n",
       "        <td>25</td>\n",
       "        <td>16</td>\n",
       "    </tr>\n",
       "</table>"
      ],
      "text/plain": [
       "[('MILD', 127, 413, 230), ('MODERATE', 46, 247, 85), ('SEVERE', 2, 25, 16)]"
      ]
     },
     "execution_count": 138,
     "metadata": {},
     "output_type": "execute_result"
    }
   ],
   "source": [
    "%%sql\n",
    "\n",
    "SELECT \n",
    "    aesev AS \"Maximum Severity\",\n",
    "    COUNT(*) FILTER (WHERE agegrp LIKE '%<65%') AS '<65',\n",
    "    COUNT(*) FILTER (WHERE agegrp LIKE '%65-80%') AS '65-80',\n",
    "    COUNT(*) FILTER (WHERE agegrp LIKE '%>80%') AS '>80'\n",
    "    \n",
    "FROM adae\n",
    "\n",
    "\n",
    "GROUP BY aesev\n",
    "\n"
   ]
  },
  {
   "cell_type": "code",
   "execution_count": 148,
   "metadata": {},
   "outputs": [
    {
     "name": "stdout",
     "output_type": "stream",
     "text": [
      " * sqlite:///jupyter_sql_tutorial.db\n",
      "Done.\n"
     ]
    },
    {
     "data": {
      "text/html": [
       "<table>\n",
       "    <tr>\n",
       "        <th>Maximum Severity</th>\n",
       "        <th>&lt;65</th>\n",
       "        <th>65-80</th>\n",
       "        <th>&gt;80</th>\n",
       "        <th>Total</th>\n",
       "    </tr>\n",
       "    <tr>\n",
       "        <td>MILD</td>\n",
       "        <td>12</td>\n",
       "        <td>41</td>\n",
       "        <td>24</td>\n",
       "        <td>77</td>\n",
       "    </tr>\n",
       "    <tr>\n",
       "        <td>MODERATE</td>\n",
       "        <td>15</td>\n",
       "        <td>69</td>\n",
       "        <td>33</td>\n",
       "        <td>117</td>\n",
       "    </tr>\n",
       "    <tr>\n",
       "        <td>SEVERE</td>\n",
       "        <td>2</td>\n",
       "        <td>18</td>\n",
       "        <td>11</td>\n",
       "        <td>31</td>\n",
       "    </tr>\n",
       "</table>"
      ],
      "text/plain": [
       "[('MILD', 12, 41, 24, 77),\n",
       " ('MODERATE', 15, 69, 33, 117),\n",
       " ('SEVERE', 2, 18, 11, 31)]"
      ]
     },
     "execution_count": 148,
     "metadata": {},
     "output_type": "execute_result"
    }
   ],
   "source": [
    "%%sql\n",
    "\n",
    "WITH added_row_number AS (SELECT *,\n",
    "                          ROW_NUMBER() OVER(PARTITION BY subjid ORDER BY aesev DESC) AS row_number\n",
    "                          FROM adae)\n",
    "SELECT \n",
    "    aesev AS \"Maximum Severity\",\n",
    "    COUNT(*) FILTER (WHERE agegrp LIKE '%<65%') AS '<65',\n",
    "    COUNT(*) FILTER (WHERE agegrp LIKE '%65-80%') AS '65-80',\n",
    "    COUNT(*) FILTER (WHERE agegrp LIKE '%>80%') AS '>80',\n",
    "    COUNT(subjid) AS 'Total'\n",
    "FROM added_row_number\n",
    "WHERE row_number=1\n",
    "GROUP BY aesev\n",
    "\n"
   ]
  },
  {
   "cell_type": "code",
   "execution_count": null,
   "metadata": {},
   "outputs": [],
   "source": []
  }
 ],
 "metadata": {
  "kernelspec": {
   "display_name": "Python (learn-env)",
   "language": "python",
   "name": "learn-env"
  },
  "language_info": {
   "codemirror_mode": {
    "name": "ipython",
    "version": 3
   },
   "file_extension": ".py",
   "mimetype": "text/x-python",
   "name": "python",
   "nbconvert_exporter": "python",
   "pygments_lexer": "ipython3",
   "version": "3.8.5"
  }
 },
 "nbformat": 4,
 "nbformat_minor": 4
}
