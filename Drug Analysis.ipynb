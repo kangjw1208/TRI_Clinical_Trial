{
 "cells": [
  {
   "cell_type": "markdown",
   "metadata": {},
   "source": [
    "# DATA CLEANING"
   ]
  },
  {
   "cell_type": "markdown",
   "metadata": {},
   "source": [
    "# TRI Clinical Trial\n",
    "###### <font color='gray'>By: Jeonwook Kang"
   ]
  },
  {
   "cell_type": "markdown",
   "metadata": {},
   "source": [
    "---"
   ]
  },
  {
   "cell_type": "code",
   "execution_count": null,
   "metadata": {},
   "outputs": [],
   "source": [
    "import pandas as pd\n",
    "import sqlite3 as sql\n",
    "import numpy as np\n",
    "from scipy import stats\n",
    "import matplotlib.pyplot as plt\n",
    "import seaborn as sns\n",
    "%matplotlib inline\n",
    "import warnings\n",
    "warnings.filterwarnings(\"ignore\")"
   ]
  },
  {
   "cell_type": "code",
   "execution_count": null,
   "metadata": {},
   "outputs": [],
   "source": [
    "# import csv file into pandas dataframe\n",
    "\n",
    "adverse_data = pd.read_csv(\"data/adae.csv\")\n",
    "other_data = pd.read_csv(\"data/ADLBC.csv\")"
   ]
  },
  {
   "cell_type": "markdown",
   "metadata": {},
   "source": [
    "## Data Cleaning/Exploratory Data Analysis"
   ]
  },
  {
   "cell_type": "code",
   "execution_count": null,
   "metadata": {},
   "outputs": [],
   "source": [
    "# checking for the number of unique clinical trial subjects with adverse effects\n",
    "\n",
    "adverse_count = list(adverse_data[\"usubjid\"].drop_duplicates())\n",
    "len(adverse_count)"
   ]
  },
  {
   "cell_type": "code",
   "execution_count": null,
   "metadata": {},
   "outputs": [],
   "source": [
    "# checking for the total number of unique clinical trial subjects\n",
    "\n",
    "total_count = list(other_data[\"usubjid\"].drop_duplicates())\n",
    "len(total_count)"
   ]
  },
  {
   "cell_type": "code",
   "execution_count": null,
   "metadata": {
    "scrolled": true
   },
   "outputs": [],
   "source": [
    "# confirming that all the subjects in adae dataset is also included in the overall data\n",
    "\n",
    "checking = total_count.copy()\n",
    "for x in adverse_count:\n",
    "    if x in total_count:\n",
    "        checking.remove(x)\n",
    "len(checking)"
   ]
  },
  {
   "cell_type": "code",
   "execution_count": null,
   "metadata": {},
   "outputs": [],
   "source": [
    "(225/254) * 100"
   ]
  },
  {
   "cell_type": "markdown",
   "metadata": {},
   "source": [
    "**Note:**\n",
    "Out of 254 subjects, 225 subjects (88.6%) is reported to have some type of adverse effect."
   ]
  },
  {
   "cell_type": "code",
   "execution_count": null,
   "metadata": {},
   "outputs": [],
   "source": [
    "# checking for number of unique items in each column to determine which columns are to be considered\n",
    "\n",
    "dicts = {}\n",
    "\n",
    "for x in adverse_data.columns:\n",
    "    dicts[x] = len(adverse_data[x].value_counts())\n",
    "dicts"
   ]
  },
  {
   "cell_type": "markdown",
   "metadata": {},
   "source": [
    "**Note:** Above information represents unique item in each column. Columns with too many unique items will be excluded for analysis purposes. For example, *aedecod*(specific conditions) has 242 unique conditions so *aebodsys*(Body System) which has only 23 unique systems will be used instead. "
   ]
  },
  {
   "cell_type": "code",
   "execution_count": null,
   "metadata": {},
   "outputs": [],
   "source": [
    "dict(adverse_data['llterm'].value_counts())"
   ]
  },
  {
   "cell_type": "code",
   "execution_count": null,
   "metadata": {},
   "outputs": [],
   "source": [
    "# checking for any missing values\n",
    "\n",
    "adverse_data.isna().sum()"
   ]
  },
  {
   "cell_type": "code",
   "execution_count": null,
   "metadata": {},
   "outputs": [],
   "source": []
  },
  {
   "cell_type": "markdown",
   "metadata": {},
   "source": [
    "**Note:**\n",
    "*aesev*(Severity/Intensity) and *aerel*(Causality) is the top two indicator of an adverse effect related to the use of Xanomeline. Other relavant columns include *trtp*(Control/Experimental Group) and *agegrp*(Age group). As we can see from above, only 4 rows are missing in the causality column, thus those missing rows will be excluded from the analysis."
   ]
  },
  {
   "cell_type": "code",
   "execution_count": null,
   "metadata": {},
   "outputs": [],
   "source": [
    "# filtering out and cleaning the dataframe with target columns\n",
    "\n",
    "adverse_data = adverse_data[[\"subjid\", \"aeser\", \"aesev\", \"aerel\", \"trtp\", \"aebodsys\", \"agegrp\"]]\n",
    "adverse_data.dropna(inplace=True)\n",
    "adverse_data.head(20)"
   ]
  },
  {
   "cell_type": "markdown",
   "metadata": {},
   "source": [
    "**Note:** After filtering out the target columns we can see that there are multiple records of adverse effect from a single subject which could cause a weighted bias in the analysis. Therefore the dataframe will be further engineered to contain only the highest priority row for each subject. The priority was determined by using *aesev* (Intensity) column."
   ]
  },
  {
   "cell_type": "code",
   "execution_count": null,
   "metadata": {},
   "outputs": [],
   "source": [
    "# selecting the row with highest priority and dropping rows with other duplicate subjects\n",
    "# higher order of selection is made by aerel(causality) column\n",
    "\n",
    "subject = list(adverse_data[\"subjid\"].drop_duplicates())\n",
    "\n",
    "df = pd.DataFrame()\n",
    "for x in subject:\n",
    "    df_initial = adverse_data[adverse_data[\"subjid\"] == x]\n",
    "    if len(df_initial) > 1:\n",
    "        if \"SEVERE\" in list(df_initial[\"aesev\"]):\n",
    "            df_temp = df_initial[df_initial[\"aesev\"] == \"SEVERE\"]\n",
    "            df_temp = df_temp.sort_values(\"aerel\")\n",
    "            df_temp = df_temp.drop_duplicates(subset = ['subjid'], keep = \"last\")\n",
    "        elif \"MODERATE\" in list(df_initial[\"aesev\"]):\n",
    "            df_temp = df_initial[(df_initial[\"aesev\"] == \"MODERATE\")]\n",
    "            df_temp = df_temp.sort_values(\"aerel\")\n",
    "            df_temp = df_temp.drop_duplicates(subset = [\"subjid\"], keep = \"last\")\n",
    "        else:\n",
    "            df_temp = df_initial.sort_values(\"aerel\")\n",
    "            df_temp = df_initial.drop_duplicates(subset = [\"subjid\"], keep = \"last\")\n",
    "        df = df.append(df_temp)\n",
    "    elif len(df_initial) == 1:\n",
    "        df = df.append(df_initial)\n",
    "        \n",
    "df.reset_index(inplace=True)\n",
    "df.drop(columns=[\"index\"], inplace=True)\n",
    "df"
   ]
  },
  {
   "cell_type": "code",
   "execution_count": null,
   "metadata": {},
   "outputs": [],
   "source": [
    "df[\"aesev\"].value_counts()"
   ]
  },
  {
   "cell_type": "code",
   "execution_count": null,
   "metadata": {},
   "outputs": [],
   "source": [
    "adverse_data.dropna(inplace=True)"
   ]
  },
  {
   "cell_type": "code",
   "execution_count": null,
   "metadata": {},
   "outputs": [],
   "source": [
    "adverse_data.head()"
   ]
  },
  {
   "cell_type": "code",
   "execution_count": null,
   "metadata": {
    "scrolled": false
   },
   "outputs": [],
   "source": [
    "df[\"aerel\"].value_counts()"
   ]
  },
  {
   "cell_type": "code",
   "execution_count": null,
   "metadata": {},
   "outputs": [],
   "source": [
    "subject = list(adverse_data[\"subjid\"].drop_duplicates())"
   ]
  },
  {
   "cell_type": "code",
   "execution_count": null,
   "metadata": {},
   "outputs": [],
   "source": [
    "df[\"trtp\"].value_counts()"
   ]
  },
  {
   "cell_type": "markdown",
   "metadata": {},
   "source": [
    "**Note:** Since we are more interested in the possible causal effect between Xanomeline use and it's adversary effects, rows with None value in the aerel(causality) column are intentionally dropped if there were alternative values in that column. However, this was done only for the subject who experienced more than one effects."
   ]
  },
  {
   "cell_type": "code",
   "execution_count": null,
   "metadata": {},
   "outputs": [],
   "source": [
    "# exporting final cleaned dataset into the file\n",
    "\n",
    "df.to_csv(\"data/cleaned_adae.csv\")"
   ]
  },
  {
   "cell_type": "code",
   "execution_count": null,
   "metadata": {},
   "outputs": [],
   "source": [
    "(79+76)/(79+76+69)"
   ]
  },
  {
   "cell_type": "markdown",
   "metadata": {},
   "source": [
    "**Note:** Out of the subjects that experienced adversary effects, 69% of them were in the treatment group. It's evident that the remaining 31% of the subjects experienced a placebo effect."
   ]
  },
  {
   "cell_type": "markdown",
   "metadata": {},
   "source": [
    "---"
   ]
  },
  {
   "cell_type": "markdown",
   "metadata": {},
   "source": [
    "## Statistical Analysis"
   ]
  },
  {
   "cell_type": "code",
   "execution_count": null,
   "metadata": {},
   "outputs": [],
   "source": [
    "# assigned numerical values to severity and causality column to compare treatment and control group\n",
    "\n",
    "df['severity_number'] = df.aesev.map({\"MILD\":0, \"MODERATE\":1, \"SEVERE\":2})\n",
    "df['causality_number'] = df.aerel.map({\"NONE\":0, \"REMOTE\":1, \"POSSIBLE\":2, \"PROBABLE\":3})\n",
    "df"
   ]
  },
  {
   "cell_type": "code",
   "execution_count": null,
   "metadata": {},
   "outputs": [],
   "source": [
    "# filtered out necessary components from the complete dataframe\n",
    "\n",
    "df_placebo = df[df['trtp'] == \"Placebo\"][['severity_number','causality_number']]\n",
    "df_lowdose = df[df['trtp'] == \"Xanomeline Low Dose\"][['severity_number','causality_number']]\n",
    "df_highdose = df[df['trtp'] == \"Xanomeline High Dose\"][['severity_number','causality_number']]"
   ]
  },
  {
   "cell_type": "code",
   "execution_count": null,
   "metadata": {},
   "outputs": [],
   "source": [
    "# forming a array of numbers to perform two sample t-test to check for statistical significance\n",
    "\n",
    "sn_placebo = np.array(df_placebo['severity_number'])\n",
    "sn_lowdose = np.array(df_lowdose['severity_number'])\n",
    "sn_highdose = np.array(df_highdose['severity_number'])\n",
    "\n",
    "cn_placebo = np.array(df_placebo['causality_number'])\n",
    "cn_lowdose = np.array(df_lowdose['causality_number'])\n",
    "cn_highdose = np.array(df_highdose['causality_number'])"
   ]
  },
  {
   "cell_type": "code",
   "execution_count": null,
   "metadata": {},
   "outputs": [],
   "source": [
    "# test between control and lowdose treatment group for severity measure\n",
    "\n",
    "stats.ttest_ind(sn_placebo, sn_lowdose)"
   ]
  },
  {
   "cell_type": "code",
   "execution_count": null,
   "metadata": {},
   "outputs": [],
   "source": [
    "# test between control and highdose treatment group for severity measure\n",
    "stats.ttest_ind(sn_placebo, sn_highdose)"
   ]
  },
  {
   "cell_type": "code",
   "execution_count": null,
   "metadata": {},
   "outputs": [],
   "source": [
    "# test between control and lowdose treatment group for causality measure\n",
    "\n",
    "stats.ttest_ind(cn_placebo, cn_lowdose)"
   ]
  },
  {
   "cell_type": "code",
   "execution_count": null,
   "metadata": {},
   "outputs": [],
   "source": [
    "# test between control and highdose treatment group for causality measures\n",
    "stats.ttest_ind(cn_placebo, cn_highdose)"
   ]
  },
  {
   "cell_type": "code",
   "execution_count": null,
   "metadata": {},
   "outputs": [],
   "source": [
    "def change_width(ax, new_value) :\n",
    "    for patch in ax.patches :\n",
    "        current_width = patch.get_width()\n",
    "        diff = current_width - new_value\n",
    "        patch.set_width(new_value)\n",
    "        patch.set_x(patch.get_x() + diff * .5)\n",
    "\n",
    "fig, (ax1, ax2) = plt.subplots(figsize=(13,6), ncols=2, dpi=200)\n",
    "\n",
    "x= [\"placebo\", \"low-dose\", \"high-dose\"]\n",
    "y= [sn_placebo.mean(), sn_lowdose.mean(), sn_highdose.mean()]\n",
    "y1= [cn_placebo.mean(), cn_lowdose.mean(), cn_highdose.mean()]\n",
    "\n",
    "sns.barplot(x=x, y=y, ax=ax1)\n",
    "ax1.set_title('Mean of Severity Score', fontweight='bold', fontsize=15)\n",
    "ax1.set_xlabel('Experimental Group', fontweight='bold', fontsize=12)\n",
    "ax1.set_ylabel('Mean Value', fontweight='bold', fontsize=12)\n",
    "change_width(ax1, 0.7)\n",
    "\n",
    "sns.barplot(x=x, y=y1, ax=ax2)\n",
    "ax2.set_title('Mean of Causality Score', fontweight='bold', fontsize=15)\n",
    "ax2.set_xlabel('Experimental Group', fontweight='bold', fontsize=12)\n",
    "ax2.set_ylabel('Mean Value', fontweight='bold', fontsize=12);\n",
    "change_width(ax2, 0.7)\n",
    "\n",
    "plt.subplots_adjust(wspace=.3)\n",
    "\n",
    "fig.suptitle(\"Measure Scores Comparison\", fontweight='bold', fontsize=20);"
   ]
  },
  {
   "cell_type": "markdown",
   "metadata": {},
   "source": [
    "**Note:** In this statistical analysis section, we first assigned a numerical values to each items in the severity and causality column. The reason is that we can use this numerical values to check for statistical significance in the difference of the mean between control and treatment groups. As seen from the p-value, every single test came out to be significant with an extremely small p-value. Therefore it is not safe to continue the clinical trial since there is a clear relationship between the adverse events and the drug use."
   ]
  },
  {
   "cell_type": "markdown",
   "metadata": {},
   "source": [
    "---"
   ]
  },
  {
   "cell_type": "markdown",
   "metadata": {},
   "source": [
    "## SQL Query"
   ]
  },
  {
   "cell_type": "code",
   "execution_count": null,
   "metadata": {},
   "outputs": [],
   "source": [
    "conn = sql.Connection('data/data.sqlite')"
   ]
  },
  {
   "cell_type": "code",
   "execution_count": null,
   "metadata": {},
   "outputs": [],
   "source": [
    "# df.to_sql('cleann', conn)\n",
    "\n",
    "# Just need to pass this arguement once to create a sql table"
   ]
  },
  {
   "cell_type": "code",
   "execution_count": null,
   "metadata": {
    "scrolled": true
   },
   "outputs": [],
   "source": [
    "q = \"\"\"\n",
    "SELECT\n",
    "    aesev AS 'Maximum Severity',\n",
    "    COUNT(*) FILTER (WHERE agegrp LIKE '%<65%') AS '<65',\n",
    "    COUNT(*) FILTER (WHERE agegrp LIKE '%65-80%') AS '65-80',\n",
    "    COUNT(*) FILTER (WHERE agegrp LIKE '%>80%') AS '>80',\n",
    "    COUNT(subjid) AS 'Total'\n",
    "FROM cleann\n",
    "GROUP BY aesev\n",
    "\n",
    "\n",
    "\"\"\"\n",
    "\n",
    "table = pd.read_sql(q,conn)\n",
    "table = pd.DataFrame(table)\n",
    "table"
   ]
  },
  {
   "cell_type": "code",
   "execution_count": null,
   "metadata": {},
   "outputs": [],
   "source": [
    "df1 = {'Maximum Severity': 'ANY SEVERITY', '<65' : 29, '65-80': 127, '>80':68, 'Total': 224}\n",
    "final = table.append(df1, ignore_index=True)\n",
    "final.set_index('Maximum Severity', inplace=True)\n",
    "final"
   ]
  },
  {
   "cell_type": "code",
   "execution_count": null,
   "metadata": {},
   "outputs": [],
   "source": []
  }
 ],
 "metadata": {
  "kernelspec": {
   "display_name": "Python (learn-env)",
   "language": "python",
   "name": "learn-env"
  },
  "language_info": {
   "codemirror_mode": {
    "name": "ipython",
    "version": 3
   },
   "file_extension": ".py",
   "mimetype": "text/x-python",
   "name": "python",
   "nbconvert_exporter": "python",
   "pygments_lexer": "ipython3",
   "version": "3.8.5"
  }
 },
 "nbformat": 4,
 "nbformat_minor": 4
}
